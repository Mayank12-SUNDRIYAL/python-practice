{
  "nbformat": 4,
  "nbformat_minor": 0,
  "metadata": {
    "colab": {
      "provenance": [],
      "collapsed_sections": []
    },
    "kernelspec": {
      "name": "python3",
      "display_name": "Python 3"
    },
    "language_info": {
      "name": "python"
    }
  },
  "cells": [
    {
      "cell_type": "markdown",
      "source": [
        "## Convert two lists into a dictionary"
      ],
      "metadata": {
        "id": "YYGamY4oQ5_Z"
      }
    },
    {
      "cell_type": "code",
      "source": [
        "keys = ['Ten', 'Twenty', 'Thirty']\n",
        "values = [10, 20, 30]\n",
        "\n",
        "dict={}\n",
        "\n",
        "for i,j in zip(keys,values):\n",
        "  dict[i]=j\n",
        "dict"
      ],
      "metadata": {
        "colab": {
          "base_uri": "https://localhost:8080/"
        },
        "id": "s0jRYalAQ6UF",
        "outputId": "b0557c6b-7825-42c0-da79-3c05c02b7f11"
      },
      "execution_count": null,
      "outputs": [
        {
          "output_type": "execute_result",
          "data": {
            "text/plain": [
              "{'Ten': 10, 'Twenty': 20, 'Thirty': 30}"
            ]
          },
          "metadata": {},
          "execution_count": 1
        }
      ]
    },
    {
      "cell_type": "markdown",
      "source": [
        "## Merge two Python dictionaries into one"
      ],
      "metadata": {
        "id": "_e_ptI1mRMSe"
      }
    },
    {
      "cell_type": "code",
      "source": [
        "dict1 = {'Ten': 10, 'Twenty': 20, 'Thirty': 30}\n",
        "dict2 = {'Thirty': 30, 'Fourty': 40, 'Fifty': 50}\n",
        "\n",
        "dict1.update(dict2)\n",
        "dict1"
      ],
      "metadata": {
        "colab": {
          "base_uri": "https://localhost:8080/"
        },
        "id": "6Y4kSNR5ROzy",
        "outputId": "14a2d3f1-e109-47f9-c253-7f97380c41d6"
      },
      "execution_count": null,
      "outputs": [
        {
          "output_type": "execute_result",
          "data": {
            "text/plain": [
              "{'Ten': 10, 'Twenty': 20, 'Thirty': 30, 'Fourty': 40, 'Fifty': 50}"
            ]
          },
          "metadata": {},
          "execution_count": 2
        }
      ]
    },
    {
      "cell_type": "code",
      "source": [
        "sampleDict = {\n",
        "    \"class\": {\n",
        "        \"student\": {\n",
        "            \"name\": \"Mike\",\n",
        "            \"marks\": {\n",
        "                \"physics\": 70,\n",
        "                \"history\": 80\n",
        "            }\n",
        "        }\n",
        "    }\n",
        "}\n",
        "\n",
        "sampleDict[\"class\"][\"student\"][\"marks\"][\"history\"]"
      ],
      "metadata": {
        "colab": {
          "base_uri": "https://localhost:8080/"
        },
        "id": "OMEOoTblSqQ-",
        "outputId": "bcab5bc1-8f5a-45b3-ef55-4be162fdbd3a"
      },
      "execution_count": null,
      "outputs": [
        {
          "output_type": "execute_result",
          "data": {
            "text/plain": [
              "80"
            ]
          },
          "metadata": {},
          "execution_count": 9
        }
      ]
    },
    {
      "cell_type": "markdown",
      "source": [
        "## Initialize dictionary with default values"
      ],
      "metadata": {
        "id": "QdBH3-z_T2Kh"
      }
    },
    {
      "cell_type": "code",
      "source": [
        "employees = ['Kelly', 'Emma']\n",
        "defaults = {\"designation\": 'Developer', \"salary\": 8000}\n",
        "\n",
        "{'Kelly': {'designation': 'Developer', 'salary': 8000}, 'Emma': {'designation': 'Developer', 'salary': 8000}}\n",
        "\n",
        "dt={}\n",
        "for i in employees:\n",
        "  dt[i]=defaults\n",
        "dt\n"
      ],
      "metadata": {
        "colab": {
          "base_uri": "https://localhost:8080/"
        },
        "id": "9PJrHzDET3Qd",
        "outputId": "317e737d-7547-46be-eb91-8f9587eb3682"
      },
      "execution_count": null,
      "outputs": [
        {
          "output_type": "execute_result",
          "data": {
            "text/plain": [
              "{'Kelly': {'designation': 'Developer', 'salary': 8000},\n",
              " 'Emma': {'designation': 'Developer', 'salary': 8000}}"
            ]
          },
          "metadata": {},
          "execution_count": 11
        }
      ]
    },
    {
      "cell_type": "markdown",
      "source": [
        "## Create a dictionary by extracting the keys from a given dictionary"
      ],
      "metadata": {
        "id": "5oOvEO1YVkEw"
      }
    },
    {
      "cell_type": "code",
      "source": [
        "sample_dict = {\n",
        "    \"name\": \"Kelly\",\n",
        "    \"age\": 25,\n",
        "    \"salary\": 8000,\n",
        "    \"city\": \"New york\"}\n",
        "# {'name': 'Kelly', 'salary': 8000}\n",
        "\n",
        "# Keys to extract\n",
        "nd={}\n",
        "for k,v in sample_dict.items():\n",
        "  if k==\"name\" or k==\"salary\":\n",
        "    nd[k]=v\n",
        "nd\n"
      ],
      "metadata": {
        "colab": {
          "base_uri": "https://localhost:8080/"
        },
        "id": "4jgKswloVngp",
        "outputId": "f2129205-a84b-4791-8ff0-476b24b2bc77"
      },
      "execution_count": null,
      "outputs": [
        {
          "output_type": "execute_result",
          "data": {
            "text/plain": [
              "{'name': 'Kelly', 'salary': 8000}"
            ]
          },
          "metadata": {},
          "execution_count": 16
        }
      ]
    },
    {
      "cell_type": "markdown",
      "source": [
        "## Delete a list of keys from a dictionary"
      ],
      "metadata": {
        "id": "2uMtsOLQWqL1"
      }
    },
    {
      "cell_type": "code",
      "source": [
        "sample_dict = {\n",
        "    \"name\": \"Kelly\",\n",
        "    \"age\": 25,\n",
        "    \"salary\": 8000,\n",
        "    \"city\": \"New york\"\n",
        "}\n",
        "\n",
        "# Keys to remove\n",
        "keys = [\"name\", \"salary\"]\n",
        "\n",
        "ndf={}\n",
        "\n",
        "for k,v in sample_dict.items():\n",
        "  if k not in keys:\n",
        "    ndf[k]=v\n",
        "ndf"
      ],
      "metadata": {
        "colab": {
          "base_uri": "https://localhost:8080/"
        },
        "id": "0NSWKPyWWrW_",
        "outputId": "f04555a8-046e-4c7d-bd0f-c6051fb9f8b9"
      },
      "execution_count": null,
      "outputs": [
        {
          "output_type": "execute_result",
          "data": {
            "text/plain": [
              "{'age': 25, 'city': 'New york'}"
            ]
          },
          "metadata": {},
          "execution_count": 18
        }
      ]
    },
    {
      "cell_type": "markdown",
      "source": [
        "## Check if a value exists in a dictionary"
      ],
      "metadata": {
        "id": "YKhEM_z4ZZjc"
      }
    },
    {
      "cell_type": "code",
      "source": [
        "sample_dict = {'a': 100, 'b': 200, 'c': 300}\n",
        "\n",
        "value=200\n",
        "\n",
        "if 200  in sample_dict.values():\n",
        "  print('200 is in dictionary')\n"
      ],
      "metadata": {
        "colab": {
          "base_uri": "https://localhost:8080/"
        },
        "id": "Xmk-wM-KWo0f",
        "outputId": "43065dc8-7ff9-4a5e-bfb1-905d98cf0d57"
      },
      "execution_count": null,
      "outputs": [
        {
          "output_type": "stream",
          "name": "stdout",
          "text": [
            "200 is in dictionary\n"
          ]
        }
      ]
    },
    {
      "cell_type": "markdown",
      "source": [
        "## Rename key of a dictionary"
      ],
      "metadata": {
        "id": "rXEat4OcZsvT"
      }
    },
    {
      "cell_type": "code",
      "source": [
        "sample_dict = {\n",
        "  \"name\": \"Kelly\",\n",
        "  \"age\":25,\n",
        "  \"salary\": 8000,\n",
        "  \"city\": \"New york\"\n",
        "}\n",
        "\n",
        "for k in sample_dict.keys():\n",
        "  if k==\"city\":\n",
        "    k==\"location\"\n",
        "sample_dict"
      ],
      "metadata": {
        "colab": {
          "base_uri": "https://localhost:8080/"
        },
        "id": "JUmvQp1GZrk3",
        "outputId": "460b14d4-1d94-4e97-d3ea-ffe53ddfe2bf"
      },
      "execution_count": null,
      "outputs": [
        {
          "output_type": "execute_result",
          "data": {
            "text/plain": [
              "{'name': 'Kelly', 'age': 25, 'salary': 8000, 'city': 'New york'}"
            ]
          },
          "metadata": {},
          "execution_count": 20
        }
      ]
    },
    {
      "cell_type": "code",
      "source": [
        "sample_dict = {\n",
        "    \"name\": \"Kelly\",\n",
        "    \"age\": 25,\n",
        "    \"salary\": 8000,\n",
        "    \"city\": \"New york\"\n",
        "}\n",
        "\n",
        "sample_dict['location'] = sample_dict.pop('city')\n",
        "print(sample_dict)"
      ],
      "metadata": {
        "colab": {
          "base_uri": "https://localhost:8080/"
        },
        "id": "T9TwupWKaJa3",
        "outputId": "328f8c2b-d1fb-4b04-e13f-f91621a6fd30"
      },
      "execution_count": null,
      "outputs": [
        {
          "output_type": "stream",
          "name": "stdout",
          "text": [
            "{'name': 'Kelly', 'age': 25, 'salary': 8000, 'location': 'New york'}\n"
          ]
        }
      ]
    },
    {
      "cell_type": "markdown",
      "source": [
        "## Get the key of a minimum value from the following dictionary"
      ],
      "metadata": {
        "id": "5m2Yn_UkaLrn"
      }
    },
    {
      "cell_type": "code",
      "source": [
        "sample_dict = {\n",
        "  'Physics': 82,\n",
        "  'Math': 65,\n",
        "  'history': 75\n",
        "}\n",
        "print(min(sample_dict, key=sample_dict.get))"
      ],
      "metadata": {
        "colab": {
          "base_uri": "https://localhost:8080/"
        },
        "id": "92qXR1T8aRqG",
        "outputId": "3e06f05d-6c7b-496b-b62e-c255dd5a43fd"
      },
      "execution_count": null,
      "outputs": [
        {
          "output_type": "stream",
          "name": "stdout",
          "text": [
            "Math\n"
          ]
        }
      ]
    },
    {
      "cell_type": "markdown",
      "source": [
        "## Write a Python program to change Brad’s salary to 8500 in the following dictionary."
      ],
      "metadata": {
        "id": "7m57muRRduTh"
      }
    },
    {
      "cell_type": "code",
      "source": [
        "sample_dict = {\n",
        "    'emp1': {'name': 'Jhon', 'salary': 7500},\n",
        "    'emp2': {'name': 'Emma', 'salary': 8000},\n",
        "    'emp3': {'name': 'Brad', 'salary': 500}\n",
        "}\n",
        "\n",
        "sample_dict[\"emp2\"][\"salary\"]=8500\n",
        "\n",
        "sample_dict\n",
        "\n"
      ],
      "metadata": {
        "colab": {
          "base_uri": "https://localhost:8080/"
        },
        "id": "cMa-Zdh_dryj",
        "outputId": "f9ee26d8-53a6-4c56-b854-2bec2ed92c5e"
      },
      "execution_count": null,
      "outputs": [
        {
          "output_type": "execute_result",
          "data": {
            "text/plain": [
              "{'emp1': {'name': 'Jhon', 'salary': 7500},\n",
              " 'emp2': {'name': 'Emma', 'salary': 8500},\n",
              " 'emp3': {'name': 'Brad', 'salary': 500}}"
            ]
          },
          "metadata": {},
          "execution_count": 32
        }
      ]
    },
    {
      "cell_type": "code",
      "source": [],
      "metadata": {
        "id": "oniYDQBSdyKN"
      },
      "execution_count": null,
      "outputs": []
    }
  ]
}