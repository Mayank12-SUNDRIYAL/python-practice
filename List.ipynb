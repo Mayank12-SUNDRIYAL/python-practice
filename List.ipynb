{
  "nbformat": 4,
  "nbformat_minor": 0,
  "metadata": {
    "colab": {
      "provenance": [],
      "collapsed_sections": []
    },
    "kernelspec": {
      "name": "python3",
      "display_name": "Python 3"
    },
    "language_info": {
      "name": "python"
    }
  },
  "cells": [
    {
      "cell_type": "markdown",
      "source": [
        "## Exercise 1: Reverse a list in Python"
      ],
      "metadata": {
        "id": "ky3wllwMMOkn"
      }
    },
    {
      "cell_type": "code",
      "source": [
        "list1= [100, 200, 300, 400, 500,600]\n",
        "list1.reverse()\n",
        "print(list1)"
      ],
      "metadata": {
        "colab": {
          "base_uri": "https://localhost:8080/"
        },
        "id": "l9y31rRQMQ4h",
        "outputId": "ea39bc06-dced-481d-b42a-fe189dfce681"
      },
      "execution_count": null,
      "outputs": [
        {
          "output_type": "stream",
          "name": "stdout",
          "text": [
            "[600, 500, 400, 300, 200, 100]\n"
          ]
        }
      ]
    },
    {
      "cell_type": "code",
      "source": [
        "# start_index(include): end_index(exclude):step(size)(optional)\n",
        "\n",
        "# for i in list1:      for accessing every element\n",
        "#   print(i)\n",
        "\n",
        "\n",
        "# for i in range(len(list1)):      for accessing every index\n",
        "#   print(i)\n",
        "\n",
        "\n",
        "# for index,value in enumerate(list1):   for accessing both index and value\n",
        "#   print(index,value)"
      ],
      "metadata": {
        "colab": {
          "base_uri": "https://localhost:8080/"
        },
        "id": "Pu3MVg03P15V",
        "outputId": "f39da818-ce45-4802-a91a-f7a7dfbf46d8"
      },
      "execution_count": null,
      "outputs": [
        {
          "output_type": "stream",
          "name": "stdout",
          "text": [
            "0 600\n",
            "1 500\n",
            "2 400\n",
            "3 300\n",
            "4 200\n",
            "5 100\n"
          ]
        }
      ]
    },
    {
      "cell_type": "code",
      "source": [
        "# mm=[100,200,300,400]  ##append\n",
        "# nn=[150,250,350]\n",
        "\n",
        "# for i in nn:\n",
        "#   mm.append(i)\n",
        "# mm\n",
        "  "
      ],
      "metadata": {
        "colab": {
          "base_uri": "https://localhost:8080/"
        },
        "id": "BrssZaWTTogL",
        "outputId": "3a74ce63-3df2-41ae-9a54-4b194c5fba5e"
      },
      "execution_count": null,
      "outputs": [
        {
          "output_type": "execute_result",
          "data": {
            "text/plain": [
              "[100, 200, 300, 400, 150, 250, 350]"
            ]
          },
          "metadata": {},
          "execution_count": 62
        }
      ]
    },
    {
      "cell_type": "code",
      "source": [
        "list1.insert(4,250)        ##insert\n",
        "list1"
      ],
      "metadata": {
        "colab": {
          "base_uri": "https://localhost:8080/"
        },
        "id": "ftjfeW_fUaBa",
        "outputId": "e0e385e0-8ea8-45de-89e9-4707acb3d9fa"
      },
      "execution_count": null,
      "outputs": [
        {
          "output_type": "execute_result",
          "data": {
            "text/plain": [
              "[600, 500, 400, 300, 250, 250, 200, 100, 800, 800, 800, 800, 800]"
            ]
          },
          "metadata": {},
          "execution_count": 65
        }
      ]
    },
    {
      "cell_type": "code",
      "source": [
        "taniya=[100,200,\"name\",\"is\",\"mayank\"]       ##to modify the items in list\n",
        " \n",
        "taniya[-1]=\"taniya\"\n",
        "taniya[:2]=[300,400]\n",
        "\n",
        "taniya"
      ],
      "metadata": {
        "colab": {
          "base_uri": "https://localhost:8080/"
        },
        "id": "zi4GormEUz09",
        "outputId": "6f1274fb-6624-492d-a221-4790a318c56f"
      },
      "execution_count": null,
      "outputs": [
        {
          "output_type": "execute_result",
          "data": {
            "text/plain": [
              "[300, 400, 'name', 'is', 'taniya']"
            ]
          },
          "metadata": {},
          "execution_count": 71
        }
      ]
    },
    {
      "cell_type": "code",
      "source": [
        "mt=[5,24,12,45]  ## modifying all elements\n",
        "\n",
        "for i in range(0,len(mt)):\n",
        "  a=mt[i]**2\n",
        "  mt[i]=a\n",
        "mt"
      ],
      "metadata": {
        "colab": {
          "base_uri": "https://localhost:8080/"
        },
        "id": "G6xgV9KSVip-",
        "outputId": "a38b282b-0dcd-4b76-ce0e-644d00535d32"
      },
      "execution_count": null,
      "outputs": [
        {
          "output_type": "execute_result",
          "data": {
            "text/plain": [
              "[25, 576, 144, 2025]"
            ]
          },
          "metadata": {},
          "execution_count": 97
        }
      ]
    },
    {
      "cell_type": "code",
      "source": [
        "mt.pop()  #last element\n",
        "\n",
        "mt.remove(576)\n",
        "mt"
      ],
      "metadata": {
        "colab": {
          "base_uri": "https://localhost:8080/"
        },
        "id": "_NrNhY7oW_-U",
        "outputId": "b8cd1fc8-86c2-475c-e797-b22358435906"
      },
      "execution_count": null,
      "outputs": [
        {
          "output_type": "execute_result",
          "data": {
            "text/plain": [
              "[25, 144]"
            ]
          },
          "metadata": {},
          "execution_count": 96
        }
      ]
    },
    {
      "cell_type": "code",
      "source": [
        "mt.pop(1)"
      ],
      "metadata": {
        "colab": {
          "base_uri": "https://localhost:8080/"
        },
        "id": "cRwrQOdEXwOO",
        "outputId": "ee3c9493-6e57-44d8-8d37-50ea3c744892"
      },
      "execution_count": null,
      "outputs": [
        {
          "output_type": "execute_result",
          "data": {
            "text/plain": [
              "576"
            ]
          },
          "metadata": {},
          "execution_count": 99
        }
      ]
    },
    {
      "cell_type": "code",
      "source": [
        "del mt"
      ],
      "metadata": {
        "id": "-cO-DfpDYBAk"
      },
      "execution_count": null,
      "outputs": []
    },
    {
      "cell_type": "code",
      "source": [
        "my_list = [2, 4, 61, 18, 10, 12]\n",
        "\n",
        "print(my_list)"
      ],
      "metadata": {
        "colab": {
          "base_uri": "https://localhost:8080/"
        },
        "id": "8F_Cep0dYP9g",
        "outputId": "1ee1894b-4fb4-486a-f36c-314bb8dd8cdd"
      },
      "execution_count": null,
      "outputs": [
        {
          "output_type": "stream",
          "name": "stdout",
          "text": [
            "[2, 4, 61, 18, 10, 12]\n"
          ]
        }
      ]
    },
    {
      "cell_type": "code",
      "source": [
        "my_list.sort(reverse=True)\n",
        "my_list"
      ],
      "metadata": {
        "colab": {
          "base_uri": "https://localhost:8080/"
        },
        "id": "IJEP5y9bYkOR",
        "outputId": "d90f4773-9fdb-4efc-8248-bc428005b2c0"
      },
      "execution_count": null,
      "outputs": [
        {
          "output_type": "execute_result",
          "data": {
            "text/plain": [
              "[61, 18, 12, 10, 4, 2]"
            ]
          },
          "metadata": {},
          "execution_count": 123
        }
      ]
    },
    {
      "cell_type": "code",
      "source": [
        "my_list"
      ],
      "metadata": {
        "colab": {
          "base_uri": "https://localhost:8080/"
        },
        "id": "YfCPGc_xZxSz",
        "outputId": "4eab0f45-01b5-4b9f-c0b6-91568ce09cb6"
      },
      "execution_count": null,
      "outputs": [
        {
          "output_type": "execute_result",
          "data": {
            "text/plain": [
              "[61, 18, 12, 10, 4, 2]"
            ]
          },
          "metadata": {},
          "execution_count": 128
        }
      ]
    },
    {
      "cell_type": "code",
      "source": [
        "a=sum(my_list)/len(my_list)\n",
        "a"
      ],
      "metadata": {
        "colab": {
          "base_uri": "https://localhost:8080/"
        },
        "id": "LJ3YkMb5aNV-",
        "outputId": "742599d5-83dc-4ba5-f9f4-bee94382fcd8"
      },
      "execution_count": null,
      "outputs": [
        {
          "output_type": "execute_result",
          "data": {
            "text/plain": [
              "17.833333333333332"
            ]
          },
          "metadata": {},
          "execution_count": 136
        }
      ]
    },
    {
      "cell_type": "code",
      "source": [
        "l1 = [10, 20, 30, 40, 50]*5\n",
        "l2 = [60, 70, 80, 60]\n",
        "\n",
        "l1.index(30,2,5)\n"
      ],
      "metadata": {
        "colab": {
          "base_uri": "https://localhost:8080/"
        },
        "id": "wmDJA-sTaoZ2",
        "outputId": "cb90972d-e3ff-4d48-98fc-5e84ee05abb2"
      },
      "execution_count": null,
      "outputs": [
        {
          "output_type": "execute_result",
          "data": {
            "text/plain": [
              "2"
            ]
          },
          "metadata": {},
          "execution_count": 156
        }
      ]
    },
    {
      "cell_type": "markdown",
      "source": [
        "## concatenate two lists index-wise"
      ],
      "metadata": {
        "id": "YGMqqq-kO1yO"
      }
    },
    {
      "cell_type": "code",
      "source": [
        "list1 = [\"M\", \"na\", \"i\", \"Ke\"]\n",
        "list2 = [\"y\", \"me\", \"s\", \"lly\"]\n",
        "\n",
        "list3=[]\n",
        "a=\"\"\n",
        "for i in range(len(list1)):\n",
        "  a=list1[i]+list2[i]\n",
        "  list3.append(a)\n",
        "list3\n",
        "  \n",
        "\n"
      ],
      "metadata": {
        "colab": {
          "base_uri": "https://localhost:8080/"
        },
        "id": "I1Wf2OkyJmmT",
        "outputId": "d6727fea-f8d4-4ab7-f191-e3e0aa33ea9a"
      },
      "execution_count": null,
      "outputs": [
        {
          "output_type": "execute_result",
          "data": {
            "text/plain": [
              "['My', 'name', 'is', 'Kelly']"
            ]
          },
          "metadata": {},
          "execution_count": 3
        }
      ]
    },
    {
      "cell_type": "code",
      "source": [
        "list1 = [\"M\", \"na\", \"i\", \"Ke\"]\n",
        "list2 = [\"y\", \"me\", \"s\", \"lly\"]\n",
        "\n",
        "r=''\n",
        "list3=[]\n",
        "for i,j in zip(list1,list2):\n",
        "  r=i+j\n",
        "  list3.append(r)\n",
        "list3\n"
      ],
      "metadata": {
        "colab": {
          "base_uri": "https://localhost:8080/"
        },
        "id": "E4wvya_PKAKh",
        "outputId": "0a1aec50-a45f-45b4-cc7b-85a78b3f81ee"
      },
      "execution_count": null,
      "outputs": [
        {
          "output_type": "execute_result",
          "data": {
            "text/plain": [
              "['My', 'name', 'is', 'Kelly']"
            ]
          },
          "metadata": {},
          "execution_count": 4
        }
      ]
    },
    {
      "cell_type": "markdown",
      "source": [
        "## Turn every item of a list into its square"
      ],
      "metadata": {
        "id": "h63400K1O5zP"
      }
    },
    {
      "cell_type": "code",
      "source": [
        "numbers = [1, 2, 3, 4, 5, 6, 7]\n",
        "\n",
        "numbers=[i**2 for i in numbers]\n",
        "numbers"
      ],
      "metadata": {
        "colab": {
          "base_uri": "https://localhost:8080/"
        },
        "id": "vcD8hzVgKPTI",
        "outputId": "8051e963-9d58-4fac-8276-eaf1cf76ed89"
      },
      "execution_count": null,
      "outputs": [
        {
          "output_type": "execute_result",
          "data": {
            "text/plain": [
              "[1, 4, 9, 16, 25, 36, 49]"
            ]
          },
          "metadata": {},
          "execution_count": 5
        }
      ]
    },
    {
      "cell_type": "markdown",
      "source": [
        "## Concatenate two lists in the following order"
      ],
      "metadata": {
        "id": "QXfUNC0PPCB0"
      }
    },
    {
      "cell_type": "code",
      "source": [
        "list1 = [\"Hello \", \"take \"]\n",
        "list2 = [\"Dear\", \"Sir\"]\n",
        "r=''\n",
        "list3=[]\n",
        "for i in list1:\n",
        "  for j in list2:\n",
        "    r=i+j\n",
        "    list3.append(r)\n",
        "list3\n"
      ],
      "metadata": {
        "colab": {
          "base_uri": "https://localhost:8080/"
        },
        "id": "Mo6bw74qLTFD",
        "outputId": "5c529c51-aa10-4ee2-87c8-04f6c9f20a0b"
      },
      "execution_count": null,
      "outputs": [
        {
          "output_type": "execute_result",
          "data": {
            "text/plain": [
              "['Hello Dear', 'Hello Sir', 'take Dear', 'take Sir']"
            ]
          },
          "metadata": {},
          "execution_count": 6
        }
      ]
    },
    {
      "cell_type": "markdown",
      "source": [
        "##  Iterate both lists simultaneously\n"
      ],
      "metadata": {
        "id": "yKXOAhi5PEPL"
      }
    },
    {
      "cell_type": "code",
      "source": [
        "list1 = [10, 20, 30, 40]\n",
        "list2 = [100, 200, 300, 400]\n",
        "\n",
        "for i in range(len(list1)):\n",
        "  print(list1[i],list2[::-1][i])\n",
        "\n",
        "list3"
      ],
      "metadata": {
        "colab": {
          "base_uri": "https://localhost:8080/"
        },
        "id": "z47PlHuvLi53",
        "outputId": "e0da4d49-95db-4383-a6b0-c2baddb674e2"
      },
      "execution_count": null,
      "outputs": [
        {
          "output_type": "stream",
          "name": "stdout",
          "text": [
            "10 400\n",
            "20 300\n",
            "30 200\n",
            "40 100\n"
          ]
        },
        {
          "output_type": "execute_result",
          "data": {
            "text/plain": [
              "['Hello Dear', 'Hello Sir', 'take Dear', 'take Sir']"
            ]
          },
          "metadata": {},
          "execution_count": 7
        }
      ]
    },
    {
      "cell_type": "markdown",
      "source": [
        "## Remove empty strings from the list of strings\n"
      ],
      "metadata": {
        "id": "PammkM9hPHy4"
      }
    },
    {
      "cell_type": "code",
      "source": [
        "list1 = [\"Mike\", \"\", \"Emma\", \"Kelly\", \"\", \"Brad\"]\n",
        "ls=[]\n",
        "for i in list1:\n",
        "  if i:\n",
        "    ls.append(i)\n",
        "ls"
      ],
      "metadata": {
        "colab": {
          "base_uri": "https://localhost:8080/"
        },
        "id": "6oOOjmFmLxKr",
        "outputId": "4d532202-29f2-4486-8632-b34efa7a4d9b"
      },
      "execution_count": null,
      "outputs": [
        {
          "output_type": "execute_result",
          "data": {
            "text/plain": [
              "['Mike', 'Emma', 'Kelly', 'Brad']"
            ]
          },
          "metadata": {},
          "execution_count": 11
        }
      ]
    },
    {
      "cell_type": "markdown",
      "source": [
        "##  Add new item to list after a specified item"
      ],
      "metadata": {
        "id": "Wm2KzfA6PLpi"
      }
    },
    {
      "cell_type": "code",
      "source": [
        "list1 = [10, 20, [300, 400, [5000, 6000], 500], 30, 40]\n",
        "\n",
        "num=7000\n",
        "\n",
        "list1[2][2].append(num)\n",
        "\n",
        "list1\n"
      ],
      "metadata": {
        "colab": {
          "base_uri": "https://localhost:8080/"
        },
        "id": "983PUYWAMIz_",
        "outputId": "fbaeccba-9772-433d-9f80-8d238e7922a5"
      },
      "execution_count": null,
      "outputs": [
        {
          "output_type": "execute_result",
          "data": {
            "text/plain": [
              "[10, 20, [300, 400, [5000, 6000, 7000], 500], 30, 40]"
            ]
          },
          "metadata": {},
          "execution_count": 17
        }
      ]
    },
    {
      "cell_type": "markdown",
      "source": [
        "## Extend nested list by adding the sublist"
      ],
      "metadata": {
        "id": "_gterJMuPQaG"
      }
    },
    {
      "cell_type": "code",
      "source": [
        "list1 = [\"a\", \"b\", [\"c\", [\"d\", \"e\", [\"f\", \"g\"], \"k\"], \"l\"], \"m\", \"n\"]\n",
        "\n",
        "# sub list to add\n",
        "sub_list = [\"h\", \"i\", \"j\"]\n",
        "\n",
        "list1[2][1][2].extend(sub_list)\n",
        "\n",
        "list1"
      ],
      "metadata": {
        "colab": {
          "base_uri": "https://localhost:8080/"
        },
        "id": "TUeUfTNYM13D",
        "outputId": "6f5c0a5a-3785-4fd3-f365-5476d74bb977"
      },
      "execution_count": null,
      "outputs": [
        {
          "output_type": "execute_result",
          "data": {
            "text/plain": [
              "['a', 'b', ['c', ['d', 'e', ['f', 'g', 'h', 'i', 'j'], 'k'], 'l'], 'm', 'n']"
            ]
          },
          "metadata": {},
          "execution_count": 19
        }
      ]
    },
    {
      "cell_type": "markdown",
      "source": [
        "## Replace list’s item with new value if found"
      ],
      "metadata": {
        "id": "A7rZB4V8PTkH"
      }
    },
    {
      "cell_type": "code",
      "source": [
        "list1 = [5, 10, 15, 20, 25, 50, 20]\n",
        "rep=200\n",
        "\n",
        "a=list1.index(20)\n",
        "list1[a]=200\n",
        "\n",
        "list1"
      ],
      "metadata": {
        "colab": {
          "base_uri": "https://localhost:8080/"
        },
        "id": "e3GN6Q4kNMx1",
        "outputId": "514110f5-ba5e-43c3-f652-2b96b735f31d"
      },
      "execution_count": null,
      "outputs": [
        {
          "output_type": "execute_result",
          "data": {
            "text/plain": [
              "[5, 10, 15, 200, 25, 50, 20]"
            ]
          },
          "metadata": {},
          "execution_count": 23
        }
      ]
    },
    {
      "cell_type": "markdown",
      "source": [
        "Remove all occurrences of a specific item from a list."
      ],
      "metadata": {
        "id": "KR-zLVEfPdZx"
      }
    },
    {
      "cell_type": "code",
      "source": [
        "list1 = [5, 10, 15, 20, 25, 50, 20]\n",
        "list1.remove(20)\n",
        "list1.remove(20)"
      ],
      "metadata": {
        "id": "LQrJiQ9EOkJ8"
      },
      "execution_count": null,
      "outputs": []
    },
    {
      "cell_type": "code",
      "source": [],
      "metadata": {
        "id": "YjnbYCC6OkPB"
      },
      "execution_count": null,
      "outputs": []
    }
  ]
}